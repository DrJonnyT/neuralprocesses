{
 "cells": [
  {
   "cell_type": "code",
   "execution_count": 5,
   "metadata": {},
   "outputs": [],
   "source": [
    "from itertools import product"
   ]
  },
  {
   "cell_type": "code",
   "execution_count": 69,
   "metadata": {},
   "outputs": [],
   "source": [
    "models = [\n",
    "    (\"cnp\", \"CNP\", \"loglik\"),\n",
    "    (\"acnp\", \"ACNP\", \"loglik\"),\n",
    "    (\"convcnp\", \"ConvCNP\", \"loglik\"),\n",
    "    (\"gnp\", \"GNP\", \"loglik\"),\n",
    "    (\"agnp\", \"AGNP\", \"loglik\"),\n",
    "    (\"convgnp\", \"ConvGNP\", \"loglik\"),\n",
    "    (\"fullconvgnp\", \"FullConvGNP\", \"loglik\"),\n",
    "    (\"np\", \"NP\", \"loglik\"),\n",
    "    (\"anp\", \"ANP\", \"loglik\"),\n",
    "    (\"convnp\", \"ConvNP\", \"loglik\"),\n",
    "    (\"np\", \"NP\", \"elbo\"),\n",
    "    (\"anp\", \"ANP\", \"elbo\"),\n",
    "    (\"convnp\", \"ConvNP\", \"elbo\"),\n",
    "]\n",
    "\n",
    "datasets = [\n",
    "    \"sawtooth\",\n",
    "    # \"mixture\",\n",
    "]"
   ]
  },
  {
   "cell_type": "code",
   "execution_count": 149,
   "metadata": {},
   "outputs": [],
   "source": [
    "def format_line(string, interpolation, extrapolation, out_of_range):\n",
    "    \n",
    "    inter = f\"{interpolation[0]:8.2f} \\pm {interpolation[1]:6.2f}\" if interpolation[0] > -20. else \" \" * 9 + \"F\" + \" \" * 9\n",
    "    extra = f\"{extrapolation[0]:8.2f} \\pm {extrapolation[1]:6.2f}\" if extrapolation[0] > -20. else \" \" * 9 + \"F\" + \" \" * 9\n",
    "    oor = f\"{out_of_range[0]:8.2f} \\pm {out_of_range[1]:6.2f}\" if out_of_range[0] > -20. else \" \" * 9 + \"F\" + \" \" * 9\n",
    "    \n",
    "    return f\"{string:<20} & {inter}  & {extra}  & {oor} \\\\\\\\\""
   ]
  },
  {
   "cell_type": "code",
   "execution_count": 151,
   "metadata": {},
   "outputs": [
    {
     "name": "stdout",
     "output_type": "stream",
     "text": [
      "CNP                  &    -0.17 \\pm   0.01  &    -0.18 \\pm   0.01  &    -0.18 \\pm   0.01 \\\\\n",
      "ACNP                 &    -0.18 \\pm   0.00  &    -0.18 \\pm   0.00  &    -0.18 \\pm   0.00 \\\\\n",
      "ACNP (AR)            &    -0.18 \\pm   0.00  &    -0.18 \\pm   0.00  &    -0.18 \\pm   0.00 \\\\\n",
      "ConvCNP              &     2.40 \\pm   0.06  &     2.39 \\pm   0.05  &     0.01 \\pm   0.01 \\\\\n",
      "ConvCNP (AR)         &     3.62 \\pm   0.01  &     3.62 \\pm   0.01  &     3.36 \\pm   0.02 \\\\\n",
      "GNP                  &    -0.18 \\pm   0.00  &    -0.18 \\pm   0.00  &    -0.18 \\pm   0.00 \\\\\n",
      "AGNP                 &    -0.18 \\pm   0.00  &    -0.18 \\pm   0.00  &    -0.18 \\pm   0.00 \\\\\n",
      "ConvGNP              &     2.87 \\pm   0.05  &     2.87 \\pm   0.05  &    -0.01 \\pm   0.01 \\\\\n",
      "FullConvGNP          &     2.88 \\pm   0.07  &     2.90 \\pm   0.07  &     0.30 \\pm   0.01 \\\\\n",
      "NP                   &     0.07 \\pm   0.00  &    -0.05 \\pm   0.00  &    -0.05 \\pm   0.00 \\\\\n",
      "ANP                  &     0.19 \\pm   0.00  &    -0.18 \\pm   0.00  &    -0.18 \\pm   0.00 \\\\\n",
      "ConvNP               &     3.06 \\pm   0.04  &     3.06 \\pm   0.04  &     0.64 \\pm   0.01 \\\\\n",
      "NP (ELBO, ML)        &     0.10 \\pm   0.01  &          F           &          F          \\\\\n",
      "NP (ELBO)            &     0.09 \\pm   0.01  &          F           &          F          \\\\\n",
      "ANP (ELBO, ML)       &     0.50 \\pm   0.02  &    -0.24 \\pm   0.00  &    -6.28 \\pm   0.46 \\\\\n",
      "ANP (ELBO)           &     0.50 \\pm   0.02  &    -6.28 \\pm   0.04  &   -10.81 \\pm   0.48 \\\\\n",
      "ConvNP (ELBO, ML)    &          F           &          F           &          F          \\\\\n",
      "ConvNP (ELBO)        &     3.51 \\pm   0.02  &     3.52 \\pm   0.02  &     2.68 \\pm   0.02 \\\\\n"
     ]
    }
   ],
   "source": [
    "for (model, string, objective), dataset in product(models, datasets):\n",
    "    \n",
    "    root = f\"_experiments/{dataset}/x1_y1/{model}\"\n",
    "    \n",
    "    if \"conv\" in model:\n",
    "        root = root + \"/unet\"\n",
    "        \n",
    "    root = root + f\"/{objective}/log_evaluate_out.txt\"\n",
    "    \n",
    "    _file = open(root, \"r\").read()\n",
    "    \n",
    "    if objective == \"loglik\":\n",
    "        \n",
    "        file = _file.split(\"| Loglik:\")[1].strip().split(\"\\n\")[:6]\n",
    "        \n",
    "        process = lambda x: float(x.strip())\n",
    "        \n",
    "        interpolation = list(map(process, file[1].split(\"|\")[1].strip().split(\"Loglik (V):\")[1].split(\"(\")[0].split(\"+-\")))\n",
    "        extrapolation = list(map(process, file[3].split(\"|\")[1].strip().split(\"Loglik (V):\")[1].split(\"(\")[0].split(\"+-\")))\n",
    "        out_of_range = list(map(process, file[5].split(\"|\")[1].strip().split(\"Loglik (V):\")[1].split(\"(\")[0].split(\"+-\")))\n",
    "        \n",
    "        row = format_line(string, interpolation, extrapolation, out_of_range)\n",
    "        print(row)\n",
    "        \n",
    "        if \"cnp\" in model and \"| AR:\" in _file:\n",
    "        \n",
    "            file = _file.split(\"| AR:\")[1].strip().split(\"\\n\")[:6]\n",
    "\n",
    "            process = lambda x: float(x.strip())\n",
    "\n",
    "            interpolation = list(map(process, file[1].split(\"|\")[1].strip().split(\"Loglik (V):\")[1].split(\"(\")[0].split(\"+-\")))\n",
    "            extrapolation = list(map(process, file[3].split(\"|\")[1].strip().split(\"Loglik (V):\")[1].split(\"(\")[0].split(\"+-\")))\n",
    "            out_of_range = list(map(process, file[5].split(\"|\")[1].strip().split(\"Loglik (V):\")[1].split(\"(\")[0].split(\"+-\")))\n",
    "\n",
    "            row = format_line(string + \" (AR)\", interpolation, extrapolation, out_of_range)\n",
    "            print(row)\n",
    "    \n",
    "    else:\n",
    "        \n",
    "        file = _file.split(\"| Loglik:\")[1].strip().split(\"\\n\")[:6]\n",
    "        \n",
    "        process = lambda x: float(x.strip())\n",
    "        \n",
    "        interpolation = list(map(process, file[1].split(\"|\")[1].strip().split(\"Loglik (V):\")[1].split(\"(\")[0].split(\"+-\")))\n",
    "        extrapolation = list(map(process, file[3].split(\"|\")[1].strip().split(\"Loglik (V):\")[1].split(\"(\")[0].split(\"+-\")))\n",
    "        out_of_range = list(map(process, file[5].split(\"|\")[1].strip().split(\"Loglik (V):\")[1].split(\"(\")[0].split(\"+-\")))\n",
    "        \n",
    "        row = format_line(string + ' (ELBO, ML)', interpolation, extrapolation, out_of_range)\n",
    "        print(row)\n",
    "        \n",
    "        file = _file.split(\"| ELBO:\")[1].strip().split(\"\\n\")[:6]\n",
    "        \n",
    "        process = lambda x: float(x.strip())\n",
    "        \n",
    "        interpolation = list(map(process, file[1].split(\"|\")[1].strip().split(\"Loglik (V):\")[1].split(\"(\")[0].split(\"+-\")))\n",
    "        extrapolation = list(map(process, file[3].split(\"|\")[1].strip().split(\"Loglik (V):\")[1].split(\"(\")[0].split(\"+-\")))\n",
    "        out_of_range = list(map(process, file[5].split(\"|\")[1].strip().split(\"Loglik (V):\")[1].split(\"(\")[0].split(\"+-\")))\n",
    "        \n",
    "        row = format_line(string + ' (ELBO)', interpolation, extrapolation, out_of_range)\n",
    "        print(row)"
   ]
  },
  {
   "cell_type": "code",
   "execution_count": null,
   "metadata": {},
   "outputs": [],
   "source": []
  }
 ],
 "metadata": {
  "kernelspec": {
   "display_name": "venv-np",
   "language": "python",
   "name": "venv-np"
  },
  "language_info": {
   "codemirror_mode": {
    "name": "ipython",
    "version": 3
   },
   "file_extension": ".py",
   "mimetype": "text/x-python",
   "name": "python",
   "nbconvert_exporter": "python",
   "pygments_lexer": "ipython3",
   "version": "3.7.12"
  }
 },
 "nbformat": 4,
 "nbformat_minor": 4
}
