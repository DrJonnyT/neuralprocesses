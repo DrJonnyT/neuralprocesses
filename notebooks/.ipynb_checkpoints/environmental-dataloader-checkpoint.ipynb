{
 "cells": [
  {
   "cell_type": "code",
   "execution_count": 238,
   "metadata": {},
   "outputs": [
    {
     "name": "stdout",
     "output_type": "stream",
     "text": [
      "The autoreload extension is already loaded. To reload it, use:\n",
      "  %reload_ext autoreload\n"
     ]
    }
   ],
   "source": [
    "import netCDF4 as nc\n",
    "\n",
    "import numpy as np\n",
    "import matplotlib.pyplot as plt\n",
    "\n",
    "%load_ext autoreload\n",
    "%autoreload 2"
   ]
  },
  {
   "cell_type": "code",
   "execution_count": 239,
   "metadata": {},
   "outputs": [
    {
     "data": {
      "text/plain": [
       "['Conventions',\n",
       " '__class__',\n",
       " '__delattr__',\n",
       " '__dir__',\n",
       " '__doc__',\n",
       " '__enter__',\n",
       " '__eq__',\n",
       " '__exit__',\n",
       " '__format__',\n",
       " '__ge__',\n",
       " '__getattr__',\n",
       " '__getattribute__',\n",
       " '__getitem__',\n",
       " '__gt__',\n",
       " '__hash__',\n",
       " '__init__',\n",
       " '__init_subclass__',\n",
       " '__le__',\n",
       " '__lt__',\n",
       " '__ne__',\n",
       " '__new__',\n",
       " '__orthogonal_indexing__',\n",
       " '__reduce__',\n",
       " '__reduce_ex__',\n",
       " '__repr__',\n",
       " '__setattr__',\n",
       " '__sizeof__',\n",
       " '__str__',\n",
       " '__subclasshook__',\n",
       " '__unicode__',\n",
       " '_close',\n",
       " '_close_mem',\n",
       " '_enddef',\n",
       " '_getname',\n",
       " '_grpid',\n",
       " '_isopen',\n",
       " '_ncstring_attrs__',\n",
       " '_redef',\n",
       " 'close',\n",
       " 'cmptypes',\n",
       " 'createCompoundType',\n",
       " 'createDimension',\n",
       " 'createEnumType',\n",
       " 'createGroup',\n",
       " 'createVLType',\n",
       " 'createVariable',\n",
       " 'data_model',\n",
       " 'delncattr',\n",
       " 'dimensions',\n",
       " 'disk_format',\n",
       " 'enumtypes',\n",
       " 'file_format',\n",
       " 'filepath',\n",
       " 'fromcdl',\n",
       " 'get_variables_by_attributes',\n",
       " 'getncattr',\n",
       " 'groups',\n",
       " 'isopen',\n",
       " 'keepweakref',\n",
       " 'name',\n",
       " 'ncattrs',\n",
       " 'parent',\n",
       " 'path',\n",
       " 'renameAttribute',\n",
       " 'renameDimension',\n",
       " 'renameGroup',\n",
       " 'renameVariable',\n",
       " 'set_always_mask',\n",
       " 'set_auto_chartostring',\n",
       " 'set_auto_mask',\n",
       " 'set_auto_maskandscale',\n",
       " 'set_auto_scale',\n",
       " 'set_fill_off',\n",
       " 'set_fill_on',\n",
       " 'set_ncstring_attrs',\n",
       " 'setncattr',\n",
       " 'setncattr_string',\n",
       " 'setncatts',\n",
       " 'sync',\n",
       " 'tocdl',\n",
       " 'variables',\n",
       " 'vltypes']"
      ]
     },
     "execution_count": 239,
     "metadata": {},
     "output_type": "execute_result"
    }
   ],
   "source": [
    "root = \"/Users/stratis/repos/EnvSensors_WP1/data/antarctica/gridded/interim/tas\"\n",
    "ds = nc.Dataset(root + \"/tas_2020.nc\")\n",
    "\n",
    "dir(ds)"
   ]
  },
  {
   "cell_type": "code",
   "execution_count": 240,
   "metadata": {},
   "outputs": [
    {
     "data": {
      "text/plain": [
       "['__array__',\n",
       " '__class__',\n",
       " '__delattr__',\n",
       " '__delitem__',\n",
       " '__dir__',\n",
       " '__doc__',\n",
       " '__eq__',\n",
       " '__format__',\n",
       " '__ge__',\n",
       " '__getattr__',\n",
       " '__getattribute__',\n",
       " '__getitem__',\n",
       " '__gt__',\n",
       " '__hash__',\n",
       " '__init__',\n",
       " '__init_subclass__',\n",
       " '__le__',\n",
       " '__len__',\n",
       " '__lt__',\n",
       " '__ne__',\n",
       " '__new__',\n",
       " '__orthogonal_indexing__',\n",
       " '__reduce__',\n",
       " '__reduce_ex__',\n",
       " '__repr__',\n",
       " '__setattr__',\n",
       " '__setitem__',\n",
       " '__sizeof__',\n",
       " '__str__',\n",
       " '__subclasshook__',\n",
       " '__unicode__',\n",
       " '_assign_vlen',\n",
       " '_check_safecast',\n",
       " '_cmptype',\n",
       " '_enumtype',\n",
       " '_get',\n",
       " '_getdims',\n",
       " '_getname',\n",
       " '_grp',\n",
       " '_grpid',\n",
       " '_has_lsd',\n",
       " '_iscompound',\n",
       " '_isenum',\n",
       " '_isprimitive',\n",
       " '_isvlen',\n",
       " '_name',\n",
       " '_ncstring_attrs__',\n",
       " '_nunlimdim',\n",
       " '_pack',\n",
       " '_put',\n",
       " '_toma',\n",
       " '_use_get_vars',\n",
       " '_varid',\n",
       " '_vltype',\n",
       " 'always_mask',\n",
       " 'assignValue',\n",
       " 'axis',\n",
       " 'chartostring',\n",
       " 'chunking',\n",
       " 'datatype',\n",
       " 'delncattr',\n",
       " 'dimensions',\n",
       " 'dtype',\n",
       " 'endian',\n",
       " 'filters',\n",
       " 'getValue',\n",
       " 'get_dims',\n",
       " 'get_var_chunk_cache',\n",
       " 'getncattr',\n",
       " 'group',\n",
       " 'long_name',\n",
       " 'mask',\n",
       " 'name',\n",
       " 'ncattrs',\n",
       " 'ndim',\n",
       " 'renameAttribute',\n",
       " 'scale',\n",
       " 'set_always_mask',\n",
       " 'set_auto_chartostring',\n",
       " 'set_auto_mask',\n",
       " 'set_auto_maskandscale',\n",
       " 'set_auto_scale',\n",
       " 'set_collective',\n",
       " 'set_ncstring_attrs',\n",
       " 'set_var_chunk_cache',\n",
       " 'setncattr',\n",
       " 'setncattr_string',\n",
       " 'setncatts',\n",
       " 'shape',\n",
       " 'size',\n",
       " 'standard_name',\n",
       " 'units',\n",
       " 'use_nc_get_vars']"
      ]
     },
     "execution_count": 240,
     "metadata": {},
     "output_type": "execute_result"
    }
   ],
   "source": [
    "dir(ds[\"x\"])"
   ]
  },
  {
   "cell_type": "code",
   "execution_count": 241,
   "metadata": {},
   "outputs": [
    {
     "data": {
      "text/plain": [
       "array([  0,   1,   2,   3,   4,   5,   6,   7,   8,   9,  10,  11,  12,\n",
       "        13,  14,  15,  16,  17,  18,  19,  20,  21,  22,  23,  24,  25,\n",
       "        26,  27,  28,  29,  30,  31,  32,  33,  34,  35,  36,  37,  38,\n",
       "        39,  40,  41,  42,  43,  44,  45,  46,  47,  48,  49,  50,  51,\n",
       "        52,  53,  54,  55,  56,  57,  58,  59,  60,  61,  62,  63,  64,\n",
       "        65,  66,  67,  68,  69,  70,  71,  72,  73,  74,  75,  76,  77,\n",
       "        78,  79,  80,  81,  82,  83,  84,  85,  86,  87,  88,  89,  90,\n",
       "        91,  92,  93,  94,  95,  96,  97,  98,  99, 100, 101, 102, 103,\n",
       "       104, 105, 106, 107, 108, 109, 110, 111, 112, 113, 114, 115, 116,\n",
       "       117, 118, 119, 120, 121, 122, 123, 124, 125, 126, 127, 128, 129,\n",
       "       130, 131, 132, 133, 134, 135, 136, 137, 138, 139, 140, 141, 142,\n",
       "       143, 144, 145, 146, 147, 148, 149, 150, 151, 152, 153, 154, 155,\n",
       "       156, 157, 158, 159, 160, 161, 162, 163, 164, 165, 166, 167, 168,\n",
       "       169, 170, 171, 172, 173, 174, 175, 176, 177, 178, 179, 180, 181,\n",
       "       182, 183, 184, 185, 186, 187, 188, 189, 190, 191, 192, 193, 194,\n",
       "       195, 196, 197, 198, 199, 200, 201, 202, 203, 204, 205, 206, 207,\n",
       "       208, 209, 210, 211, 212, 213, 214, 215, 216, 217, 218, 219, 220,\n",
       "       221, 222, 223, 224, 225, 226, 227, 228, 229, 230, 231, 232, 233,\n",
       "       234, 235, 236, 237, 238, 239, 240, 241, 242, 243, 244, 245, 246,\n",
       "       247, 248, 249, 250, 251, 252, 253, 254, 255, 256, 257, 258, 259,\n",
       "       260, 261, 262, 263, 264, 265, 266, 267, 268, 269, 270, 271, 272,\n",
       "       273, 274, 275, 276, 277, 278, 279, 280, 281, 282, 283, 284, 285,\n",
       "       286, 287, 288, 289, 290, 291, 292, 293, 294, 295, 296, 297, 298,\n",
       "       299, 300, 301, 302, 303, 304, 305, 306, 307, 308, 309, 310, 311,\n",
       "       312, 313, 314, 315, 316, 317, 318, 319, 320, 321, 322, 323, 324,\n",
       "       325, 326, 327, 328, 329, 330, 331, 332, 333, 334, 335, 336, 337,\n",
       "       338, 339, 340, 341, 342, 343, 344, 345, 346, 347, 348, 349, 350,\n",
       "       351, 352, 353, 354, 355, 356, 357, 358, 359, 360, 361, 362, 363,\n",
       "       364, 365])"
      ]
     },
     "execution_count": 241,
     "metadata": {},
     "output_type": "execute_result"
    }
   ],
   "source": [
    "ds[\"time\"][:].data"
   ]
  },
  {
   "cell_type": "code",
   "execution_count": null,
   "metadata": {},
   "outputs": [],
   "source": []
  },
  {
   "cell_type": "code",
   "execution_count": 242,
   "metadata": {},
   "outputs": [
    {
     "data": {
      "text/plain": [
       "<matplotlib.image.AxesImage at 0x14777d320>"
      ]
     },
     "execution_count": 242,
     "metadata": {},
     "output_type": "execute_result"
    },
    {
     "data": {
      "image/png": "[encoded data removed]",
      "text/plain": [
       "<Figure size 432x288 with 1 Axes>"
      ]
     },
     "metadata": {
      "needs_background": "light"
     },
     "output_type": "display_data"
    }
   ],
   "source": [
    "plt.imshow(ds[\"t2m\"][8].data)"
   ]
  },
  {
   "cell_type": "code",
   "execution_count": 437,
   "metadata": {},
   "outputs": [
    {
     "name": "stdout",
     "output_type": "stream",
     "text": [
      "The autoreload extension is already loaded. To reload it, use:\n",
      "  %reload_ext autoreload\n"
     ]
    }
   ],
   "source": [
    "import neuralprocesses as nps\n",
    "\n",
    "import torch\n",
    "import numpy as np\n",
    "import matplotlib.pyplot as plt\n",
    "\n",
    "%load_ext autoreload\n",
    "%autoreload 2\n",
    "\n",
    "root_dir = \"/Users/stratis/repos/EnvSensors_WP1/data/antarctica\"\n",
    "\n",
    "generator = nps.AntarcticaGenerator(\n",
    "    dtype=np.float32,\n",
    "    root_dir=root_dir,\n",
    "#     seed=0,\n",
    "#     num_tasks=2**14,\n",
    "#     batch_size=16,\n",
    "#     num_context_real=UniformDiscrete(50, 200),\n",
    "#     num_context_sim=UniformDiscrete(50, 200),\n",
    "#     num_target_real=UniformDiscrete(50, 200),\n",
    "#     num_target_sim=UniformDiscrete(50, 200),\n",
    "#     subset=\"train\",\n",
    "#     mode=\"both\",\n",
    "#     device=\"cpu\",\n",
    ")\n",
    "\n",
    "batch = generator.generate_batch()"
   ]
  },
  {
   "cell_type": "code",
   "execution_count": 445,
   "metadata": {},
   "outputs": [
    {
     "data": {
      "image/png": "[encoded data removed]",
      "text/plain": [
       "<Figure size 792x360 with 2 Axes>"
      ]
     },
     "metadata": {},
     "output_type": "display_data"
    },
    {
     "data": {
      "image/png": "[encoded data removed]",
      "text/plain": [
       "<Figure size 792x360 with 2 Axes>"
      ]
     },
     "metadata": {},
     "output_type": "display_data"
    },
    {
     "data": {
      "image/png": "[encoded data removed]",
      "text/plain": [
       "<Figure size 792x360 with 2 Axes>"
      ]
     },
     "metadata": {},
     "output_type": "display_data"
    },
    {
     "data": {
      "image/png": "[encoded data removed]",
      "text/plain": [
       "<Figure size 792x360 with 2 Axes>"
      ]
     },
     "metadata": {},
     "output_type": "display_data"
    },
    {
     "data": {
      "image/png": "[encoded data removed]",
      "text/plain": [
       "<Figure size 792x360 with 2 Axes>"
      ]
     },
     "metadata": {},
     "output_type": "display_data"
    },
    {
     "data": {
      "image/png": "[encoded data removed]",
      "text/plain": [
       "<Figure size 792x360 with 2 Axes>"
      ]
     },
     "metadata": {},
     "output_type": "display_data"
    },
    {
     "data": {
      "image/png": "[encoded data removed]",
      "text/plain": [
       "<Figure size 792x360 with 2 Axes>"
      ]
     },
     "metadata": {},
     "output_type": "display_data"
    },
    {
     "data": {
      "image/png": "[encoded data removed]",
      "text/plain": [
       "<Figure size 792x360 with 2 Axes>"
      ]
     },
     "metadata": {},
     "output_type": "display_data"
    },
    {
     "data": {
      "image/png": "[encoded data removed]",
      "text/plain": [
       "<Figure size 792x360 with 2 Axes>"
      ]
     },
     "metadata": {},
     "output_type": "display_data"
    },
    {
     "data": {
      "image/png": "[encoded data removed]",
      "text/plain": [
       "<Figure size 792x360 with 2 Axes>"
      ]
     },
     "metadata": {},
     "output_type": "display_data"
    },
    {
     "data": {
      "image/png": "[encoded data removed]",
      "text/plain": [
       "<Figure size 792x360 with 2 Axes>"
      ]
     },
     "metadata": {},
     "output_type": "display_data"
    },
    {
     "data": {
      "image/png": "[encoded data removed]",
      "text/plain": [
       "<Figure size 792x360 with 2 Axes>"
      ]
     },
     "metadata": {},
     "output_type": "display_data"
    },
    {
     "data": {
      "image/png": "[encoded data removed]",
      "text/plain": [
       "<Figure size 792x360 with 2 Axes>"
      ]
     },
     "metadata": {},
     "output_type": "display_data"
    },
    {
     "data": {
      "image/png": "[encoded data removed]",
      "text/plain": [
       "<Figure size 792x360 with 2 Axes>"
      ]
     },
     "metadata": {},
     "output_type": "display_data"
    },
    {
     "data": {
      "image/png": "[encoded data removed]",
      "text/plain": [
       "<Figure size 792x360 with 2 Axes>"
      ]
     },
     "metadata": {},
     "output_type": "display_data"
    },
    {
     "data": {
      "image/png": "[encoded data removed]",
      "text/plain": [
       "<Figure size 792x360 with 2 Axes>"
      ]
     },
     "metadata": {},
     "output_type": "display_data"
    },
    {
     "data": {
      "image/png": "[encoded data removed]",
      "text/plain": [
       "<Figure size 792x360 with 2 Axes>"
      ]
     },
     "metadata": {},
     "output_type": "display_data"
    },
    {
     "data": {
      "image/png": "[encoded data removed]",
      "text/plain": [
       "<Figure size 792x360 with 2 Axes>"
      ]
     },
     "metadata": {},
     "output_type": "display_data"
    },
    {
     "data": {
      "image/png": "[encoded data removed]",
      "text/plain": [
       "<Figure size 792x360 with 2 Axes>"
      ]
     },
     "metadata": {},
     "output_type": "display_data"
    },
    {
     "data": {
      "image/png": "[encoded data removed]",
      "text/plain": [
       "<Figure size 792x360 with 2 Axes>"
      ]
     },
     "metadata": {},
     "output_type": "display_data"
    }
   ],
   "source": [
    "for i in range(20):\n",
    "    \n",
    "    batch = generator.generate_batch()\n",
    "\n",
    "    plt.figure(figsize=(11, 5))\n",
    "\n",
    "    plt.subplot(1, 2, 1)\n",
    "\n",
    "    plt.scatter(\n",
    "        batch[\"era5_context_x\"][0],\n",
    "        batch[\"era5_context_y\"][0],\n",
    "        marker=\"+\",\n",
    "        color=\"black\"\n",
    "    )\n",
    "    plt.scatter(\n",
    "        batch[\"era5_target_x\"][0],\n",
    "        batch[\"era5_target_y\"][0],\n",
    "        marker=\"+\",\n",
    "        color=\"red\"\n",
    "    )\n",
    "\n",
    "    plt.xlim([-5e6, 5e6])\n",
    "    plt.ylim([-5e6, 5e6])\n",
    "    plt.xticks([])\n",
    "    plt.yticks([])\n",
    "\n",
    "    plt.subplot(1, 2, 2)\n",
    "\n",
    "    plt.scatter(\n",
    "        batch[\"station_context_x\"][0],\n",
    "        batch[\"station_context_y\"][0],\n",
    "        marker=\"+\",\n",
    "        color=\"black\"\n",
    "    )\n",
    "    plt.scatter(\n",
    "        batch[\"station_target_x\"][0],\n",
    "        batch[\"station_target_y\"][0],\n",
    "        marker=\"+\",\n",
    "        color=\"red\"\n",
    "    )\n",
    "\n",
    "    plt.xlim([-5e6, 5e6])\n",
    "    plt.ylim([-5e6, 5e6])\n",
    "    plt.xticks([])\n",
    "    plt.yticks([])\n",
    "\n",
    "    plt.show()"
   ]
  },
  {
   "cell_type": "code",
   "execution_count": 223,
   "metadata": {},
   "outputs": [],
   "source": [
    "import pandas as pd\n",
    "\n",
    "station_dir = \"/Users/stratis/repos/EnvSensors_WP1/data/antarctica/station/interim\"\n",
    "\n",
    "data = pd.read_csv(f\"{station_dir}/all_station_data.csv\")\n",
    "metadata = pd.read_csv(f\"{station_dir}/all_station_metadata.csv\")"
   ]
  },
  {
   "cell_type": "code",
   "execution_count": 98,
   "metadata": {},
   "outputs": [],
   "source": [
    "idx = np.argsort(data[\"date\"].values)"
   ]
  },
  {
   "cell_type": "code",
   "execution_count": 133,
   "metadata": {},
   "outputs": [],
   "source": [
    "t_str = np.unique(data.iloc[idx][\"date\"].values)[0]"
   ]
  },
  {
   "cell_type": "code",
   "execution_count": 134,
   "metadata": {},
   "outputs": [
    {
     "name": "stderr",
     "output_type": "stream",
     "text": [
      "/Users/stratis/repos/neuralprocesses/venv-np/lib/python3.7/site-packages/ipykernel_launcher.py:1: UserWarning: Boolean Series key will be reindexed to match DataFrame index.\n",
      "  \"\"\"Entry point for launching an IPython kernel.\n"
     ]
    },
    {
     "data": {
      "text/html": [
       "<div>\n",
       "<style scoped>\n",
       "    .dataframe tbody tr th:only-of-type {\n",
       "        vertical-align: middle;\n",
       "    }\n",
       "\n",
       "    .dataframe tbody tr th {\n",
       "        vertical-align: top;\n",
       "    }\n",
       "\n",
       "    .dataframe thead th {\n",
       "        text-align: right;\n",
       "    }\n",
       "</style>\n",
       "<table border=\"1\" class=\"dataframe\">\n",
       "  <thead>\n",
       "    <tr style=\"text-align: right;\">\n",
       "      <th></th>\n",
       "      <th>station</th>\n",
       "      <th>date</th>\n",
       "      <th>tas</th>\n",
       "      <th>wind_dir</th>\n",
       "      <th>sfcWind</th>\n",
       "      <th>psl</th>\n",
       "      <th>p_station</th>\n",
       "    </tr>\n",
       "  </thead>\n",
       "  <tbody>\n",
       "    <tr>\n",
       "      <th>651621</th>\n",
       "      <td>Macquarie_Island</td>\n",
       "      <td>1948-04-01</td>\n",
       "      <td>5.885714</td>\n",
       "      <td>NaN</td>\n",
       "      <td>NaN</td>\n",
       "      <td>NaN</td>\n",
       "      <td>NaN</td>\n",
       "    </tr>\n",
       "  </tbody>\n",
       "</table>\n",
       "</div>"
      ],
      "text/plain": [
       "                 station        date       tas  wind_dir  sfcWind  psl  \\\n",
       "651621  Macquarie_Island  1948-04-01  5.885714       NaN      NaN  NaN   \n",
       "\n",
       "        p_station  \n",
       "651621        NaN  "
      ]
     },
     "execution_count": 134,
     "metadata": {},
     "output_type": "execute_result"
    }
   ],
   "source": [
    "data[data.iloc[idx].date == t_str]"
   ]
  },
  {
   "cell_type": "code",
   "execution_count": 158,
   "metadata": {},
   "outputs": [
    {
     "name": "stderr",
     "output_type": "stream",
     "text": [
      "/Users/stratis/repos/neuralprocesses/venv-np/lib/python3.7/site-packages/ipykernel_launcher.py:2: UserWarning: Boolean Series key will be reindexed to match DataFrame index.\n",
      "  \n",
      "/Users/stratis/repos/neuralprocesses/venv-np/lib/python3.7/site-packages/ipykernel_launcher.py:3: UserWarning: Boolean Series key will be reindexed to match DataFrame index.\n",
      "  This is separate from the ipykernel package so we can avoid doing imports until\n"
     ]
    },
    {
     "data": {
      "text/plain": [
       "[<matplotlib.lines.Line2D at 0x14ba869b0>]"
      ]
     },
     "execution_count": 158,
     "metadata": {},
     "output_type": "execute_result"
    },
    {
     "data": {
      "image/png": "[encoded data removed]",
      "text/plain": [
       "<Figure size 432x288 with 1 Axes>"
      ]
     },
     "metadata": {
      "needs_background": "light"
     },
     "output_type": "display_data"
    }
   ],
   "source": [
    "plt.plot(\n",
    "    np.arange(data[data.iloc[idx].station == \"King_Sejong\"].tas.shape[0]),\n",
    "    data[data.iloc[idx].station == \"King_Sejong\"].tas\n",
    ")\n",
    "# plt.xlim([0, 1000])"
   ]
  },
  {
   "cell_type": "code",
   "execution_count": 148,
   "metadata": {},
   "outputs": [
    {
     "data": {
      "text/plain": [
       "array(['A028_a_new', 'A028_b_new', 'A028_new', 'AGO_A81', 'AGO_A84',\n",
       "       'AGO_Site', 'AM01_new', 'AM02_new', 'Adelaide',\n",
       "       'Alessandra(Cape King)', 'Allison', 'AmeryG3_new',\n",
       "       'Amundsen_Scott', 'Apfel_new', 'Arelis(Cape Ross)', 'Arturo_Prat',\n",
       "       'Asgard', 'Asuka', 'Backer_Island', 'Baldrick', 'Bean Peaks',\n",
       "       'Bean_Peaks', 'Bear_Peninsula', 'Belgrano_I', 'Belgrano_II',\n",
       "       'Bellingshausen', 'Bennett_Nunatak', 'Biscoe Island',\n",
       "       'Bonaparte Point', 'Bowers', 'Brianna', 'Brimstone_Peak',\n",
       "       'Buckle Island', 'Bumstead_Nunatak', 'Butcher_Ridge', 'Byrd',\n",
       "       'Byrd_2', 'Campbell', 'Cape Adams', 'Cape Bird', 'Cape Denison',\n",
       "       'Cape Spencer', 'Cape Webb', 'Cape_Framnes', 'Carolyn',\n",
       "       'Casey_new', 'Casey_old', 'Clamp1', 'Clamp2', 'Clamp3', 'Clamp4',\n",
       "       'Clarke_Mountains', 'Clean Air', 'Concordia(Dome C)',\n",
       "       'Cordiner_Peak', 'Criosfera1', 'D_10', 'D_17', 'D_47', 'D_57',\n",
       "       'D_80', 'Davis', 'Deception', 'Deverall_Island', 'Dismal Island',\n",
       "       'Dolleman Island', 'Dome C', 'Dome C II', 'Dome F', 'Dome Fuji',\n",
       "       'Dome_A_new', 'Doug', 'Drescher', 'Dumont_Durville',\n",
       "       'Duthiers_Point', 'Eagle_new', 'Eder Island_new', 'Elaine',\n",
       "       'Elizabeth', 'Emilia', 'Eneide(Terra Nova Bay)', 'Eric', 'Erin',\n",
       "       'Esperanza', 'Fallone_Nunataks', 'Faraday', 'Ferraz', 'Ferrell',\n",
       "       'Filchner_new', 'Flask_Glacier', 'Fogle', 'Fossil Bluff',\n",
       "       'Foyn_Point', 'Franklin_Island', 'GC41_new', 'GC46', 'GF08_a_new',\n",
       "       'GF08_new', 'Gill', 'Giulia(Mid Point)', 'Gomez Nunatak',\n",
       "       'Gomez_Nunatak', 'Gould_Knoll', 'Great_Wall', 'Grytviken',\n",
       "       'Haag_Nunatak', 'Halley Bay', 'Halley_1_3', 'Halley_4', 'Halley_5',\n",
       "       'Halley_6', 'Halley_6a', 'Harry', 'Henkle Peak', 'Henry',\n",
       "       'Herbie Alley', 'Howard_Nunatak', 'Hugo_Island',\n",
       "       'Hutton Mountains', 'Hutton_Mountains', 'Inman_Nunatak',\n",
       "       'Irene(Sitry)', 'J_C', 'Jennica(Terra Nova Bay)', 'Jensen Nunatak',\n",
       "       'Jensen_Nunatak', 'Jimmy', 'Joinville Island', 'Jubany', 'Kelly',\n",
       "       'King George Island', 'King_Sejong', 'Kirkwood Island',\n",
       "       'Kohler_Glacier', 'Kominko_Slade', 'LGB00_a_new', 'LGB00_b_new',\n",
       "       'LGB00_c_new', 'LGB00_new', 'LGB10_a_new', 'LGB10_new',\n",
       "       'LGB20_new', 'LGB35_new', 'LGB46_new', 'LGB59_new', 'LGB69_a_new',\n",
       "       'LGB69_new', 'Lanyon_a_new', 'Lanyon_new', 'Laurie', 'Laurie II',\n",
       "       'Law Dome Summit', 'Law Dome Summit South', 'Leningradskaja',\n",
       "       'Lepley_Nunatak', 'Leppard_Glacier', 'Lettau', 'Linda', 'Lindsay',\n",
       "       'Lola(Saro Point)', 'Lonewolf_Nunatak', 'Lorne',\n",
       "       'Lower_Thwaites_Glacier', 'Lynn', 'Lyon_Nunatak',\n",
       "       'Macquarie_Island', 'Manning', 'Manuela', 'Marambio',\n",
       "       'Marble Point', 'Maria(Mt. Browning)', 'Marilyn',\n",
       "       'Mario_Zucchelli', 'Marsh', 'Martha 2', 'Martha I',\n",
       "       'Martin_Peninsula', 'Mary', 'Mawson', 'McMurdo', 'Meeley',\n",
       "       'Miller_Crag', 'Minna Bluff', 'Mirny', 'Mizuho',\n",
       "       'Modesta(Priestley Neve)', 'Molodeznaja', 'Monte_Cassino',\n",
       "       'Mount Howe', 'Mount McKibben', 'Mount Siple', 'Mount_Bruce',\n",
       "       'Mount_Carbone', 'Mount_Howe', 'Mount_McKibben', 'Mount_Paterson',\n",
       "       'Mount_Suggs', 'Mount_Takahe', 'Mount_Walcott', 'Mt Erebus',\n",
       "       'Mt Fleming', 'MtBrown_a_new', 'MtBrown_new', 'Mulock', 'Nancy',\n",
       "       'Neumayer', 'Nico', 'Noel', 'Novolazarevskaya', 'O_Higgins',\n",
       "       'Orcadas', 'Paola(Talos Dome)', 'Pat', 'Patrick', 'Patriot Hills',\n",
       "       'Pecora_Escarpment', 'Pegasus', 'Pegasus North', 'Pegasus South',\n",
       "       'Penguin Point', 'Pine Island Glacier', 'Pirrot_Hills',\n",
       "       'Port Martin', 'Possession Island', 'Prospect_Point', 'Racer Rock',\n",
       "       'Rambo_Nunatak', 'Ranvik_new', 'Recovery_Lakes_1',\n",
       "       'Recovery_Lakes_2', 'Relay Station', 'Rita(Enigma Lake)',\n",
       "       'Robertson_Island', 'Rothera', 'Rumdoodle_new', 'Russkaya',\n",
       "       'San_Martin', 'Sandra', 'Santa Claus Island', 'Schwerdtfeger',\n",
       "       'Scott Island', 'Shristi', 'Signy', 'Silvia(Cape Philips)',\n",
       "       'Siple', 'Siple Dome', 'Ski_Hi', 'Slater_Rocks',\n",
       "       'Sofia(Nansen Ice Sheet)', 'Sofiab(David Glacier)',\n",
       "       'South_Georgia_1', 'South_Georgia_2', 'South_Georgia_3',\n",
       "       'Spring_Point', 'Steward_Hills', 'Sushila', 'Sutton',\n",
       "       'Swithinbank', 'Syowa', 'Theresa', 'Thiel Mountains',\n",
       "       'Thurston_Island', 'Tiffany', 'Tombstone_Hill', 'Toney_Mountain',\n",
       "       'Traverse Mountains', 'Traverse_Mountains', 'Union Glacier',\n",
       "       'Up_Thwaites_Glacier', 'Uranus Glacier', 'Vernadsky',\n",
       "       'Vernadsky_Station', 'Vito', 'Vostok', 'Welch Mountains',\n",
       "       'Welch_Mountains', 'Westhaven_Nunatak', 'Whichaway_Nunatak',\n",
       "       'White Island', 'White Out', 'Whitlock', 'Whitmore_Mountains',\n",
       "       'Wilkes', 'Willie Field', 'Wilson_Nunatak', 'Windless Bight',\n",
       "       'Young Island', 'Zhongshan', 'Zoraida(Priestley Glacier)'],\n",
       "      dtype=object)"
      ]
     },
     "execution_count": 148,
     "metadata": {},
     "output_type": "execute_result"
    }
   ],
   "source": [
    "np.unique(data.iloc[idx][\"station\"].values)"
   ]
  },
  {
   "cell_type": "code",
   "execution_count": 209,
   "metadata": {},
   "outputs": [],
   "source": [
    "ordered_data = data.iloc[idx]\n",
    "dates = np.unique(ordered_data[\"date\"].values)\n",
    "numbers = []\n",
    "\n",
    "for date in dates[:-1:50]:\n",
    "    \n",
    "    numbers.append(\n",
    "        ordered_data[ordered_data[\"date\"] == date].shape[0]\n",
    "    )"
   ]
  },
  {
   "cell_type": "code",
   "execution_count": 219,
   "metadata": {},
   "outputs": [
    {
     "data": {
      "image/png": "[encoded data removed]",
      "text/plain": [
       "<Figure size 432x288 with 1 Axes>"
      ]
     },
     "metadata": {
      "needs_background": "light"
     },
     "output_type": "display_data"
    }
   ],
   "source": [
    "years = 1950 + np.arange(0, dates.shape[0], 50) / 365\n",
    "\n",
    "plt.plot(years, numbers)\n",
    "\n",
    "plt.xlabel(\"Year\", fontsize=20)\n",
    "plt.ylabel(\"# stations\", fontsize=20)\n",
    "plt.savefig(\"num-stations.pdf\")\n",
    "plt.show()"
   ]
  },
  {
   "cell_type": "code",
   "execution_count": 221,
   "metadata": {},
   "outputs": [
    {
     "data": {
      "text/html": [
       "<div>\n",
       "<style scoped>\n",
       "    .dataframe tbody tr th:only-of-type {\n",
       "        vertical-align: middle;\n",
       "    }\n",
       "\n",
       "    .dataframe tbody tr th {\n",
       "        vertical-align: top;\n",
       "    }\n",
       "\n",
       "    .dataframe thead th {\n",
       "        text-align: right;\n",
       "    }\n",
       "</style>\n",
       "<table border=\"1\" class=\"dataframe\">\n",
       "  <thead>\n",
       "    <tr style=\"text-align: right;\">\n",
       "      <th></th>\n",
       "      <th>station</th>\n",
       "      <th>date</th>\n",
       "      <th>tas</th>\n",
       "      <th>wind_dir</th>\n",
       "      <th>sfcWind</th>\n",
       "      <th>psl</th>\n",
       "      <th>p_station</th>\n",
       "    </tr>\n",
       "  </thead>\n",
       "  <tbody>\n",
       "    <tr>\n",
       "      <th>0</th>\n",
       "      <td>A028_a_new</td>\n",
       "      <td>1986-02-19</td>\n",
       "      <td>-14.800000</td>\n",
       "      <td>127.500000</td>\n",
       "      <td>11.837500</td>\n",
       "      <td>NaN</td>\n",
       "      <td>NaN</td>\n",
       "    </tr>\n",
       "    <tr>\n",
       "      <th>1</th>\n",
       "      <td>A028_a_new</td>\n",
       "      <td>1986-02-22</td>\n",
       "      <td>-12.333333</td>\n",
       "      <td>110.000000</td>\n",
       "      <td>9.671429</td>\n",
       "      <td>NaN</td>\n",
       "      <td>NaN</td>\n",
       "    </tr>\n",
       "    <tr>\n",
       "      <th>2</th>\n",
       "      <td>A028_a_new</td>\n",
       "      <td>1986-02-24</td>\n",
       "      <td>-15.926087</td>\n",
       "      <td>135.478261</td>\n",
       "      <td>16.804348</td>\n",
       "      <td>NaN</td>\n",
       "      <td>NaN</td>\n",
       "    </tr>\n",
       "    <tr>\n",
       "      <th>3</th>\n",
       "      <td>A028_a_new</td>\n",
       "      <td>1986-02-26</td>\n",
       "      <td>-12.981250</td>\n",
       "      <td>130.375000</td>\n",
       "      <td>9.506250</td>\n",
       "      <td>NaN</td>\n",
       "      <td>NaN</td>\n",
       "    </tr>\n",
       "    <tr>\n",
       "      <th>4</th>\n",
       "      <td>A028_a_new</td>\n",
       "      <td>1986-02-27</td>\n",
       "      <td>-11.900000</td>\n",
       "      <td>128.647059</td>\n",
       "      <td>8.976471</td>\n",
       "      <td>NaN</td>\n",
       "      <td>NaN</td>\n",
       "    </tr>\n",
       "    <tr>\n",
       "      <th>...</th>\n",
       "      <td>...</td>\n",
       "      <td>...</td>\n",
       "      <td>...</td>\n",
       "      <td>...</td>\n",
       "      <td>...</td>\n",
       "      <td>...</td>\n",
       "      <td>...</td>\n",
       "    </tr>\n",
       "    <tr>\n",
       "      <th>1271363</th>\n",
       "      <td>Jubany</td>\n",
       "      <td>1995-12-25</td>\n",
       "      <td>NaN</td>\n",
       "      <td>NaN</td>\n",
       "      <td>NaN</td>\n",
       "      <td>NaN</td>\n",
       "      <td>988.133333</td>\n",
       "    </tr>\n",
       "    <tr>\n",
       "      <th>1271364</th>\n",
       "      <td>Marambio</td>\n",
       "      <td>1971-06-25</td>\n",
       "      <td>NaN</td>\n",
       "      <td>NaN</td>\n",
       "      <td>NaN</td>\n",
       "      <td>NaN</td>\n",
       "      <td>971.900000</td>\n",
       "    </tr>\n",
       "    <tr>\n",
       "      <th>1271365</th>\n",
       "      <td>Orcadas</td>\n",
       "      <td>1962-07-17</td>\n",
       "      <td>NaN</td>\n",
       "      <td>NaN</td>\n",
       "      <td>NaN</td>\n",
       "      <td>NaN</td>\n",
       "      <td>977.400000</td>\n",
       "    </tr>\n",
       "    <tr>\n",
       "      <th>1271366</th>\n",
       "      <td>Orcadas</td>\n",
       "      <td>1962-07-18</td>\n",
       "      <td>NaN</td>\n",
       "      <td>NaN</td>\n",
       "      <td>NaN</td>\n",
       "      <td>NaN</td>\n",
       "      <td>991.875000</td>\n",
       "    </tr>\n",
       "    <tr>\n",
       "      <th>1271367</th>\n",
       "      <td>Orcadas</td>\n",
       "      <td>1962-07-19</td>\n",
       "      <td>NaN</td>\n",
       "      <td>NaN</td>\n",
       "      <td>NaN</td>\n",
       "      <td>NaN</td>\n",
       "      <td>993.250000</td>\n",
       "    </tr>\n",
       "  </tbody>\n",
       "</table>\n",
       "<p>1271368 rows × 7 columns</p>\n",
       "</div>"
      ],
      "text/plain": [
       "            station        date        tas    wind_dir    sfcWind  psl  \\\n",
       "0        A028_a_new  1986-02-19 -14.800000  127.500000  11.837500  NaN   \n",
       "1        A028_a_new  1986-02-22 -12.333333  110.000000   9.671429  NaN   \n",
       "2        A028_a_new  1986-02-24 -15.926087  135.478261  16.804348  NaN   \n",
       "3        A028_a_new  1986-02-26 -12.981250  130.375000   9.506250  NaN   \n",
       "4        A028_a_new  1986-02-27 -11.900000  128.647059   8.976471  NaN   \n",
       "...             ...         ...        ...         ...        ...  ...   \n",
       "1271363      Jubany  1995-12-25        NaN         NaN        NaN  NaN   \n",
       "1271364    Marambio  1971-06-25        NaN         NaN        NaN  NaN   \n",
       "1271365     Orcadas  1962-07-17        NaN         NaN        NaN  NaN   \n",
       "1271366     Orcadas  1962-07-18        NaN         NaN        NaN  NaN   \n",
       "1271367     Orcadas  1962-07-19        NaN         NaN        NaN  NaN   \n",
       "\n",
       "          p_station  \n",
       "0               NaN  \n",
       "1               NaN  \n",
       "2               NaN  \n",
       "3               NaN  \n",
       "4               NaN  \n",
       "...             ...  \n",
       "1271363  988.133333  \n",
       "1271364  971.900000  \n",
       "1271365  977.400000  \n",
       "1271366  991.875000  \n",
       "1271367  993.250000  \n",
       "\n",
       "[1271368 rows x 7 columns]"
      ]
     },
     "execution_count": 221,
     "metadata": {},
     "output_type": "execute_result"
    }
   ],
   "source": [
    "pd.Dataframe(\"all_station_metadata.csv\")"
   ]
  },
  {
   "cell_type": "code",
   "execution_count": 235,
   "metadata": {},
   "outputs": [
    {
     "data": {
      "image/png": "[encoded data removed]",
      "text/plain": [
       "<Figure size 360x360 with 1 Axes>"
      ]
     },
     "metadata": {
      "needs_background": "light"
     },
     "output_type": "display_data"
    }
   ],
   "source": [
    "x = metadata[\"x\"].values\n",
    "y = metadata[\"y\"].values\n",
    "\n",
    "plt.figure(figsize=(5, 5))\n",
    "plt.scatter(x, y, marker=\"+\")\n",
    "plt.xlim([-5e6, 5e6])\n",
    "plt.ylim([-5e6, 5e6])\n",
    "plt.axis(\"off\")\n",
    "plt.show()"
   ]
  },
  {
   "cell_type": "code",
   "execution_count": 255,
   "metadata": {},
   "outputs": [
    {
     "data": {
      "text/html": [
       "<div>\n",
       "<style scoped>\n",
       "    .dataframe tbody tr th:only-of-type {\n",
       "        vertical-align: middle;\n",
       "    }\n",
       "\n",
       "    .dataframe tbody tr th {\n",
       "        vertical-align: top;\n",
       "    }\n",
       "\n",
       "    .dataframe thead th {\n",
       "        text-align: right;\n",
       "    }\n",
       "</style>\n",
       "<table border=\"1\" class=\"dataframe\">\n",
       "  <thead>\n",
       "    <tr style=\"text-align: right;\">\n",
       "      <th></th>\n",
       "      <th>station</th>\n",
       "      <th>date</th>\n",
       "      <th>tas</th>\n",
       "      <th>wind_dir</th>\n",
       "      <th>sfcWind</th>\n",
       "      <th>psl</th>\n",
       "      <th>p_station</th>\n",
       "    </tr>\n",
       "  </thead>\n",
       "  <tbody>\n",
       "    <tr>\n",
       "      <th>1</th>\n",
       "      <td>A028_a_new</td>\n",
       "      <td>1986-02-22</td>\n",
       "      <td>-12.333333</td>\n",
       "      <td>110.000000</td>\n",
       "      <td>9.671429</td>\n",
       "      <td>NaN</td>\n",
       "      <td>NaN</td>\n",
       "    </tr>\n",
       "    <tr>\n",
       "      <th>2</th>\n",
       "      <td>A028_a_new</td>\n",
       "      <td>1986-02-24</td>\n",
       "      <td>-15.926087</td>\n",
       "      <td>135.478261</td>\n",
       "      <td>16.804348</td>\n",
       "      <td>NaN</td>\n",
       "      <td>NaN</td>\n",
       "    </tr>\n",
       "    <tr>\n",
       "      <th>3</th>\n",
       "      <td>A028_a_new</td>\n",
       "      <td>1986-02-26</td>\n",
       "      <td>-12.981250</td>\n",
       "      <td>130.375000</td>\n",
       "      <td>9.506250</td>\n",
       "      <td>NaN</td>\n",
       "      <td>NaN</td>\n",
       "    </tr>\n",
       "    <tr>\n",
       "      <th>4</th>\n",
       "      <td>A028_a_new</td>\n",
       "      <td>1986-02-27</td>\n",
       "      <td>-11.900000</td>\n",
       "      <td>128.647059</td>\n",
       "      <td>8.976471</td>\n",
       "      <td>NaN</td>\n",
       "      <td>NaN</td>\n",
       "    </tr>\n",
       "    <tr>\n",
       "      <th>5</th>\n",
       "      <td>A028_a_new</td>\n",
       "      <td>1986-03-01</td>\n",
       "      <td>-11.811765</td>\n",
       "      <td>116.235294</td>\n",
       "      <td>15.135294</td>\n",
       "      <td>NaN</td>\n",
       "      <td>NaN</td>\n",
       "    </tr>\n",
       "    <tr>\n",
       "      <th>...</th>\n",
       "      <td>...</td>\n",
       "      <td>...</td>\n",
       "      <td>...</td>\n",
       "      <td>...</td>\n",
       "      <td>...</td>\n",
       "      <td>...</td>\n",
       "      <td>...</td>\n",
       "    </tr>\n",
       "    <tr>\n",
       "      <th>1271363</th>\n",
       "      <td>Jubany</td>\n",
       "      <td>1995-12-25</td>\n",
       "      <td>NaN</td>\n",
       "      <td>NaN</td>\n",
       "      <td>NaN</td>\n",
       "      <td>NaN</td>\n",
       "      <td>988.133333</td>\n",
       "    </tr>\n",
       "    <tr>\n",
       "      <th>1271364</th>\n",
       "      <td>Marambio</td>\n",
       "      <td>1971-06-25</td>\n",
       "      <td>NaN</td>\n",
       "      <td>NaN</td>\n",
       "      <td>NaN</td>\n",
       "      <td>NaN</td>\n",
       "      <td>971.900000</td>\n",
       "    </tr>\n",
       "    <tr>\n",
       "      <th>1271365</th>\n",
       "      <td>Orcadas</td>\n",
       "      <td>1962-07-17</td>\n",
       "      <td>NaN</td>\n",
       "      <td>NaN</td>\n",
       "      <td>NaN</td>\n",
       "      <td>NaN</td>\n",
       "      <td>977.400000</td>\n",
       "    </tr>\n",
       "    <tr>\n",
       "      <th>1271366</th>\n",
       "      <td>Orcadas</td>\n",
       "      <td>1962-07-18</td>\n",
       "      <td>NaN</td>\n",
       "      <td>NaN</td>\n",
       "      <td>NaN</td>\n",
       "      <td>NaN</td>\n",
       "      <td>991.875000</td>\n",
       "    </tr>\n",
       "    <tr>\n",
       "      <th>1271367</th>\n",
       "      <td>Orcadas</td>\n",
       "      <td>1962-07-19</td>\n",
       "      <td>NaN</td>\n",
       "      <td>NaN</td>\n",
       "      <td>NaN</td>\n",
       "      <td>NaN</td>\n",
       "      <td>993.250000</td>\n",
       "    </tr>\n",
       "  </tbody>\n",
       "</table>\n",
       "<p>1271367 rows × 7 columns</p>\n",
       "</div>"
      ],
      "text/plain": [
       "            station        date        tas    wind_dir    sfcWind  psl  \\\n",
       "1        A028_a_new  1986-02-22 -12.333333  110.000000   9.671429  NaN   \n",
       "2        A028_a_new  1986-02-24 -15.926087  135.478261  16.804348  NaN   \n",
       "3        A028_a_new  1986-02-26 -12.981250  130.375000   9.506250  NaN   \n",
       "4        A028_a_new  1986-02-27 -11.900000  128.647059   8.976471  NaN   \n",
       "5        A028_a_new  1986-03-01 -11.811765  116.235294  15.135294  NaN   \n",
       "...             ...         ...        ...         ...        ...  ...   \n",
       "1271363      Jubany  1995-12-25        NaN         NaN        NaN  NaN   \n",
       "1271364    Marambio  1971-06-25        NaN         NaN        NaN  NaN   \n",
       "1271365     Orcadas  1962-07-17        NaN         NaN        NaN  NaN   \n",
       "1271366     Orcadas  1962-07-18        NaN         NaN        NaN  NaN   \n",
       "1271367     Orcadas  1962-07-19        NaN         NaN        NaN  NaN   \n",
       "\n",
       "          p_station  \n",
       "1               NaN  \n",
       "2               NaN  \n",
       "3               NaN  \n",
       "4               NaN  \n",
       "5               NaN  \n",
       "...             ...  \n",
       "1271363  988.133333  \n",
       "1271364  971.900000  \n",
       "1271365  977.400000  \n",
       "1271366  991.875000  \n",
       "1271367  993.250000  \n",
       "\n",
       "[1271367 rows x 7 columns]"
      ]
     },
     "execution_count": 255,
     "metadata": {},
     "output_type": "execute_result"
    }
   ],
   "source": [
    "data.copy().drop(0, axis=0)"
   ]
  },
  {
   "cell_type": "code",
   "execution_count": 264,
   "metadata": {},
   "outputs": [
    {
     "data": {
      "text/plain": [
       "Int64Index([      0,   20242,   34421,   59104,   83881,   99456,  121009,\n",
       "             137657,  157785,  196849,  206362,  223888,  232496,  239810,\n",
       "             241064,  251152,  274464,  309969,  325611,  376516,  403609,\n",
       "             413578,  439729,  445804,  464558,  496849,  604491,  610123,\n",
       "             664315,  671040,  688231,  701894,  740683,  765459,  787251,\n",
       "             815706,  847650,  879136,  908198,  928363,  943387, 1007827,\n",
       "            1022993, 1027531, 1041630, 1062644, 1116597, 1184945, 1200823],\n",
       "           dtype='int64')"
      ]
     },
     "execution_count": 264,
     "metadata": {},
     "output_type": "execute_result"
    }
   ],
   "source": [
    "a = data[\"date\"] == \"1986-02-19\"\n",
    "a[a].index"
   ]
  },
  {
   "cell_type": "code",
   "execution_count": 298,
   "metadata": {},
   "outputs": [
    {
     "data": {
      "text/html": [
       "<div>\n",
       "<style scoped>\n",
       "    .dataframe tbody tr th:only-of-type {\n",
       "        vertical-align: middle;\n",
       "    }\n",
       "\n",
       "    .dataframe tbody tr th {\n",
       "        vertical-align: top;\n",
       "    }\n",
       "\n",
       "    .dataframe thead th {\n",
       "        text-align: right;\n",
       "    }\n",
       "</style>\n",
       "<table border=\"1\" class=\"dataframe\">\n",
       "  <thead>\n",
       "    <tr style=\"text-align: right;\">\n",
       "      <th></th>\n",
       "      <th>station</th>\n",
       "      <th>lat</th>\n",
       "      <th>lon</th>\n",
       "      <th>x</th>\n",
       "      <th>y</th>\n",
       "      <th>elev</th>\n",
       "      <th>dem_elev</th>\n",
       "    </tr>\n",
       "  </thead>\n",
       "  <tbody>\n",
       "    <tr>\n",
       "      <th>0</th>\n",
       "      <td>A028_a_new</td>\n",
       "      <td>-68.400000</td>\n",
       "      <td>112.220000</td>\n",
       "      <td>2.219200e+06</td>\n",
       "      <td>-9.065425e+05</td>\n",
       "      <td>1622.0</td>\n",
       "      <td>1587.0</td>\n",
       "    </tr>\n",
       "    <tr>\n",
       "      <th>1</th>\n",
       "      <td>A028_b_new</td>\n",
       "      <td>-68.400000</td>\n",
       "      <td>112.220000</td>\n",
       "      <td>2.219200e+06</td>\n",
       "      <td>-9.065425e+05</td>\n",
       "      <td>1622.0</td>\n",
       "      <td>1587.0</td>\n",
       "    </tr>\n",
       "    <tr>\n",
       "      <th>2</th>\n",
       "      <td>A028_new</td>\n",
       "      <td>-68.400000</td>\n",
       "      <td>112.220000</td>\n",
       "      <td>2.219200e+06</td>\n",
       "      <td>-9.065425e+05</td>\n",
       "      <td>1622.0</td>\n",
       "      <td>1587.0</td>\n",
       "    </tr>\n",
       "    <tr>\n",
       "      <th>3</th>\n",
       "      <td>AGO_A81</td>\n",
       "      <td>-81.500000</td>\n",
       "      <td>3.740000</td>\n",
       "      <td>6.186697e+04</td>\n",
       "      <td>9.464386e+05</td>\n",
       "      <td>2410.0</td>\n",
       "      <td>2365.0</td>\n",
       "    </tr>\n",
       "    <tr>\n",
       "      <th>4</th>\n",
       "      <td>AGO_A84</td>\n",
       "      <td>-84.360000</td>\n",
       "      <td>-23.860000</td>\n",
       "      <td>-2.547073e+05</td>\n",
       "      <td>5.758647e+05</td>\n",
       "      <td>2103.0</td>\n",
       "      <td>2035.0</td>\n",
       "    </tr>\n",
       "    <tr>\n",
       "      <th>...</th>\n",
       "      <td>...</td>\n",
       "      <td>...</td>\n",
       "      <td>...</td>\n",
       "      <td>...</td>\n",
       "      <td>...</td>\n",
       "      <td>...</td>\n",
       "      <td>...</td>\n",
       "    </tr>\n",
       "    <tr>\n",
       "      <th>285</th>\n",
       "      <td>Wilson_Nunatak</td>\n",
       "      <td>-80.039873</td>\n",
       "      <td>-80.557548</td>\n",
       "      <td>-1.095921e+06</td>\n",
       "      <td>1.822629e+05</td>\n",
       "      <td>692.0</td>\n",
       "      <td>661.0</td>\n",
       "    </tr>\n",
       "    <tr>\n",
       "      <th>286</th>\n",
       "      <td>Windless Bight</td>\n",
       "      <td>-77.720000</td>\n",
       "      <td>167.690000</td>\n",
       "      <td>2.918228e+05</td>\n",
       "      <td>-1.337299e+06</td>\n",
       "      <td>40.0</td>\n",
       "      <td>22.0</td>\n",
       "    </tr>\n",
       "    <tr>\n",
       "      <th>287</th>\n",
       "      <td>Young Island</td>\n",
       "      <td>-66.230000</td>\n",
       "      <td>162.280000</td>\n",
       "      <td>8.018523e+05</td>\n",
       "      <td>-2.509511e+06</td>\n",
       "      <td>30.0</td>\n",
       "      <td>0.0</td>\n",
       "    </tr>\n",
       "    <tr>\n",
       "      <th>288</th>\n",
       "      <td>Zhongshan</td>\n",
       "      <td>-69.366667</td>\n",
       "      <td>76.366667</td>\n",
       "      <td>2.226660e+06</td>\n",
       "      <td>5.400571e+05</td>\n",
       "      <td>18.0</td>\n",
       "      <td>0.0</td>\n",
       "    </tr>\n",
       "    <tr>\n",
       "      <th>289</th>\n",
       "      <td>Zoraida(Priestley Glacier)</td>\n",
       "      <td>-74.170000</td>\n",
       "      <td>162.880000</td>\n",
       "      <td>5.187024e+05</td>\n",
       "      <td>-1.683977e+06</td>\n",
       "      <td>880.0</td>\n",
       "      <td>873.0</td>\n",
       "    </tr>\n",
       "  </tbody>\n",
       "</table>\n",
       "<p>290 rows × 7 columns</p>\n",
       "</div>"
      ],
      "text/plain": [
       "                        station        lat         lon             x  \\\n",
       "0                    A028_a_new -68.400000  112.220000  2.219200e+06   \n",
       "1                    A028_b_new -68.400000  112.220000  2.219200e+06   \n",
       "2                      A028_new -68.400000  112.220000  2.219200e+06   \n",
       "3                       AGO_A81 -81.500000    3.740000  6.186697e+04   \n",
       "4                       AGO_A84 -84.360000  -23.860000 -2.547073e+05   \n",
       "..                          ...        ...         ...           ...   \n",
       "285              Wilson_Nunatak -80.039873  -80.557548 -1.095921e+06   \n",
       "286              Windless Bight -77.720000  167.690000  2.918228e+05   \n",
       "287                Young Island -66.230000  162.280000  8.018523e+05   \n",
       "288                   Zhongshan -69.366667   76.366667  2.226660e+06   \n",
       "289  Zoraida(Priestley Glacier) -74.170000  162.880000  5.187024e+05   \n",
       "\n",
       "                y    elev  dem_elev  \n",
       "0   -9.065425e+05  1622.0    1587.0  \n",
       "1   -9.065425e+05  1622.0    1587.0  \n",
       "2   -9.065425e+05  1622.0    1587.0  \n",
       "3    9.464386e+05  2410.0    2365.0  \n",
       "4    5.758647e+05  2103.0    2035.0  \n",
       "..            ...     ...       ...  \n",
       "285  1.822629e+05   692.0     661.0  \n",
       "286 -1.337299e+06    40.0      22.0  \n",
       "287 -2.509511e+06    30.0       0.0  \n",
       "288  5.400571e+05    18.0       0.0  \n",
       "289 -1.683977e+06   880.0     873.0  \n",
       "\n",
       "[290 rows x 7 columns]"
      ]
     },
     "execution_count": 298,
     "metadata": {},
     "output_type": "execute_result"
    }
   ],
   "source": [
    "metadata"
   ]
  },
  {
   "cell_type": "code",
   "execution_count": 285,
   "metadata": {},
   "outputs": [
    {
     "data": {
      "text/html": [
       "<div>\n",
       "<style scoped>\n",
       "    .dataframe tbody tr th:only-of-type {\n",
       "        vertical-align: middle;\n",
       "    }\n",
       "\n",
       "    .dataframe tbody tr th {\n",
       "        vertical-align: top;\n",
       "    }\n",
       "\n",
       "    .dataframe thead th {\n",
       "        text-align: right;\n",
       "    }\n",
       "</style>\n",
       "<table border=\"1\" class=\"dataframe\">\n",
       "  <thead>\n",
       "    <tr style=\"text-align: right;\">\n",
       "      <th></th>\n",
       "      <th>station</th>\n",
       "      <th>date</th>\n",
       "      <th>tas</th>\n",
       "      <th>wind_dir</th>\n",
       "      <th>sfcWind</th>\n",
       "      <th>psl</th>\n",
       "      <th>p_station</th>\n",
       "    </tr>\n",
       "  </thead>\n",
       "  <tbody>\n",
       "    <tr>\n",
       "      <th>0</th>\n",
       "      <td>A028_a_new</td>\n",
       "      <td>1986-02-19</td>\n",
       "      <td>-14.800000</td>\n",
       "      <td>127.500000</td>\n",
       "      <td>11.837500</td>\n",
       "      <td>NaN</td>\n",
       "      <td>NaN</td>\n",
       "    </tr>\n",
       "    <tr>\n",
       "      <th>1</th>\n",
       "      <td>A028_a_new</td>\n",
       "      <td>1986-02-22</td>\n",
       "      <td>-12.333333</td>\n",
       "      <td>110.000000</td>\n",
       "      <td>9.671429</td>\n",
       "      <td>NaN</td>\n",
       "      <td>NaN</td>\n",
       "    </tr>\n",
       "    <tr>\n",
       "      <th>2</th>\n",
       "      <td>A028_a_new</td>\n",
       "      <td>1986-02-24</td>\n",
       "      <td>-15.926087</td>\n",
       "      <td>135.478261</td>\n",
       "      <td>16.804348</td>\n",
       "      <td>NaN</td>\n",
       "      <td>NaN</td>\n",
       "    </tr>\n",
       "    <tr>\n",
       "      <th>3</th>\n",
       "      <td>A028_a_new</td>\n",
       "      <td>1986-02-26</td>\n",
       "      <td>-12.981250</td>\n",
       "      <td>130.375000</td>\n",
       "      <td>9.506250</td>\n",
       "      <td>NaN</td>\n",
       "      <td>NaN</td>\n",
       "    </tr>\n",
       "    <tr>\n",
       "      <th>4</th>\n",
       "      <td>A028_a_new</td>\n",
       "      <td>1986-02-27</td>\n",
       "      <td>-11.900000</td>\n",
       "      <td>128.647059</td>\n",
       "      <td>8.976471</td>\n",
       "      <td>NaN</td>\n",
       "      <td>NaN</td>\n",
       "    </tr>\n",
       "    <tr>\n",
       "      <th>...</th>\n",
       "      <td>...</td>\n",
       "      <td>...</td>\n",
       "      <td>...</td>\n",
       "      <td>...</td>\n",
       "      <td>...</td>\n",
       "      <td>...</td>\n",
       "      <td>...</td>\n",
       "    </tr>\n",
       "    <tr>\n",
       "      <th>1271363</th>\n",
       "      <td>Jubany</td>\n",
       "      <td>1995-12-25</td>\n",
       "      <td>NaN</td>\n",
       "      <td>NaN</td>\n",
       "      <td>NaN</td>\n",
       "      <td>NaN</td>\n",
       "      <td>988.133333</td>\n",
       "    </tr>\n",
       "    <tr>\n",
       "      <th>1271364</th>\n",
       "      <td>Marambio</td>\n",
       "      <td>1971-06-25</td>\n",
       "      <td>NaN</td>\n",
       "      <td>NaN</td>\n",
       "      <td>NaN</td>\n",
       "      <td>NaN</td>\n",
       "      <td>971.900000</td>\n",
       "    </tr>\n",
       "    <tr>\n",
       "      <th>1271365</th>\n",
       "      <td>Orcadas</td>\n",
       "      <td>1962-07-17</td>\n",
       "      <td>NaN</td>\n",
       "      <td>NaN</td>\n",
       "      <td>NaN</td>\n",
       "      <td>NaN</td>\n",
       "      <td>977.400000</td>\n",
       "    </tr>\n",
       "    <tr>\n",
       "      <th>1271366</th>\n",
       "      <td>Orcadas</td>\n",
       "      <td>1962-07-18</td>\n",
       "      <td>NaN</td>\n",
       "      <td>NaN</td>\n",
       "      <td>NaN</td>\n",
       "      <td>NaN</td>\n",
       "      <td>991.875000</td>\n",
       "    </tr>\n",
       "    <tr>\n",
       "      <th>1271367</th>\n",
       "      <td>Orcadas</td>\n",
       "      <td>1962-07-19</td>\n",
       "      <td>NaN</td>\n",
       "      <td>NaN</td>\n",
       "      <td>NaN</td>\n",
       "      <td>NaN</td>\n",
       "      <td>993.250000</td>\n",
       "    </tr>\n",
       "  </tbody>\n",
       "</table>\n",
       "<p>1271368 rows × 7 columns</p>\n",
       "</div>"
      ],
      "text/plain": [
       "            station        date        tas    wind_dir    sfcWind  psl  \\\n",
       "0        A028_a_new  1986-02-19 -14.800000  127.500000  11.837500  NaN   \n",
       "1        A028_a_new  1986-02-22 -12.333333  110.000000   9.671429  NaN   \n",
       "2        A028_a_new  1986-02-24 -15.926087  135.478261  16.804348  NaN   \n",
       "3        A028_a_new  1986-02-26 -12.981250  130.375000   9.506250  NaN   \n",
       "4        A028_a_new  1986-02-27 -11.900000  128.647059   8.976471  NaN   \n",
       "...             ...         ...        ...         ...        ...  ...   \n",
       "1271363      Jubany  1995-12-25        NaN         NaN        NaN  NaN   \n",
       "1271364    Marambio  1971-06-25        NaN         NaN        NaN  NaN   \n",
       "1271365     Orcadas  1962-07-17        NaN         NaN        NaN  NaN   \n",
       "1271366     Orcadas  1962-07-18        NaN         NaN        NaN  NaN   \n",
       "1271367     Orcadas  1962-07-19        NaN         NaN        NaN  NaN   \n",
       "\n",
       "          p_station  \n",
       "0               NaN  \n",
       "1               NaN  \n",
       "2               NaN  \n",
       "3               NaN  \n",
       "4               NaN  \n",
       "...             ...  \n",
       "1271363  988.133333  \n",
       "1271364  971.900000  \n",
       "1271365  977.400000  \n",
       "1271366  991.875000  \n",
       "1271367  993.250000  \n",
       "\n",
       "[1271368 rows x 7 columns]"
      ]
     },
     "execution_count": 285,
     "metadata": {},
     "output_type": "execute_result"
    }
   ],
   "source": []
  },
  {
   "cell_type": "code",
   "execution_count": 331,
   "metadata": {},
   "outputs": [
    {
     "data": {
      "text/plain": [
       "datetime.timedelta(days=1)"
      ]
     },
     "execution_count": 331,
     "metadata": {},
     "output_type": "execute_result"
    }
   ],
   "source": [
    "from datetime import timedelta\n",
    "\n",
    "timedelta(\n",
    "    days=1\n",
    ")"
   ]
  },
  {
   "cell_type": "code",
   "execution_count": 342,
   "metadata": {},
   "outputs": [
    {
     "data": {
      "text/plain": [
       "424"
      ]
     },
     "execution_count": 342,
     "metadata": {},
     "output_type": "execute_result"
    }
   ],
   "source": [
    "from datetime import date\n",
    "date.fromisoformat('2020-02-29').toordinal() - date.fromisoformat('2019-01-01').toordinal()"
   ]
  },
  {
   "cell_type": "code",
   "execution_count": null,
   "metadata": {},
   "outputs": [],
   "source": []
  }
 ],
 "metadata": {
  "kernelspec": {
   "display_name": "venv-np",
   "language": "python",
   "name": "venv-np"
  },
  "language_info": {
   "codemirror_mode": {
    "name": "ipython",
    "version": 3
   },
   "file_extension": ".py",
   "mimetype": "text/x-python",
   "name": "python",
   "nbconvert_exporter": "python",
   "pygments_lexer": "ipython3",
   "version": "3.7.3"
  }
 },
 "nbformat": 4,
 "nbformat_minor": 4
}
